{
 "cells": [
  {
   "cell_type": "markdown",
   "metadata": {},
   "source": [
    "\n",
    "# Assignment (5):\n",
    "\n",
    "**Objective**\n",
    "\n",
    "I told you Python is used in many things, including data analysis and game development, right? Well, let's play a game!\n",
    "\n",
    "**Recommended Steps**\n",
    "1. **Create a Chess Board**\n",
    "   - Create a simple 8 by 8 dataframe that looks like a chessboard (can be 9 by 8 if you want to add row numbers as a different column).\n",
    "   - Check how it should look here.\n",
    "2. **Add Chess Pieces**\n",
    "   - Place the chess pieces ♟️ in their proper locations (either written, emojis, or ASCII art).\n",
    "3. **Define Movement Function**\n",
    "   - Define a simple function that moves a \"piece\" from its current location to a new location.\n",
    "   - The function should take the current location and the new location as inputs.\n",
    "4. **Implement a Game Loop**\n",
    "   - Add a loop that keeps running the function for both players.\n",
    "\n",
    "5. **Test and Play**\n",
    "   - Play and test the game! 👌🏻\n",
    "\n",
    "**Additional Notes**\n",
    "\n",
    "- No need to implement any actual chess rules for now.\n",
    "- The logic of this project relies heavily on understanding how to read and add values into a dataframe.\n",
    "- Simply transfer the value by reading the \"piece,\" storing it in a temporary variable, then placing it in the new location while erasing it from the old one.\n",
    "- Chess players usually play by using the coordinates of the board (e.g., \"Rook from A1 to A5\"). You just need to figure out how to map this correctly to the chess dataframe.\n",
    "- You should also anticipate whether the location the user wants to use is empty or has a piece they can move.\n",
    "\n",
    "\n",
    "\n",
    "\n"
   ]
  },
  {
   "cell_type": "code",
   "execution_count": null,
   "metadata": {},
   "outputs": [
    {
     "name": "stdout",
     "output_type": "stream",
     "text": [
      "Initial Chess Board:\n",
      "  A B C D E F G H\n",
      "8 ♜ ♞ ♝ ♛ ♚ ♝ ♞ ♜ \n",
      "7 ♟ ♟ ♟ ♟ ♟ ♟ ♟ ♟ \n",
      "6 . . . . . . . . \n",
      "5 . . . . . . . . \n",
      "4 . . . . . . . . \n",
      "3 . . . . . . . . \n",
      "2 ♙ ♙ ♙ ♙ ♙ ♙ ♙ ♙ \n",
      "1 ♖ ♘ ♗ ♕ ♔ ♗ ♘ ♖ \n"
     ]
    }
   ],
   "source": [
    "import pandas as pd\n",
    "\n",
    "rows = [8, 7, 6, 5, 4, 3, 2, 1]\n",
    "columns = ['A', 'B', 'C', 'D', 'E', 'F', 'G', 'H']\n",
    "\n",
    "chess_df = pd.DataFrame('', index=rows, columns=columns)\n",
    "\n",
    "# White back row (1) - Rook, Knight, Bishop, Queen, King, Bishop, Knight, Rook\n",
    "white_back_row = ['♖', '♘', '♗', '♕', '♔', '♗', '♘', '♖']\n",
    "for col_idx, col in enumerate(columns):\n",
    "    chess_df.loc[1, col] = white_back_row[col_idx]\n",
    "\n",
    "for col in columns:\n",
    "    chess_df.loc[2, col] = '♙'\n",
    "\n",
    "# Black back row (8)\n",
    "black_back_row = ['♜', '♞', '♝', '♛', '♚', '♝', '♞', '♜']\n",
    "for col_idx, col in enumerate(columns):\n",
    "    chess_df.loc[8, col] = black_back_row[col_idx]\n",
    "\n",
    "# Black pawns (row 7)\n",
    "for col in columns:\n",
    "    chess_df.loc[7, col] = '♟'\n",
    "\n",
    "# Display the chessboard with row numbers and column letters\n",
    "def display_chessboard(df):\n",
    "    print(\"  \" + \" \".join(columns))\n",
    "    for row in df.index:\n",
    "        print(f\"{row} \", end=\"\")\n",
    "        for col in df.columns:\n",
    "            print(df.loc[row, col] if df.loc[row, col] != '' else '.', end=\" \")\n",
    "        print()\n",
    "\n",
    "# Display initial board\n",
    "print(\"Initial Chess Board:\")\n",
    "display_chessboard(chess_df)"
   ]
  }
 ],
 "metadata": {
  "kernelspec": {
   "display_name": "base",
   "language": "python",
   "name": "python3"
  },
  "language_info": {
   "codemirror_mode": {
    "name": "ipython",
    "version": 3
   },
   "file_extension": ".py",
   "mimetype": "text/x-python",
   "name": "python",
   "nbconvert_exporter": "python",
   "pygments_lexer": "ipython3",
   "version": "3.11.5"
  }
 },
 "nbformat": 4,
 "nbformat_minor": 2
}
